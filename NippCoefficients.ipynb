{
 "cells": [
  {
   "cell_type": "code",
   "execution_count": 14,
   "metadata": {},
   "outputs": [
    {
     "name": "stdout",
     "output_type": "stream",
     "text": [
      "Requirement already satisfied: beautifulsoup4 in /srv/conda/lib/python3.6/site-packages (4.8.0)\r\n",
      "Requirement already satisfied: soupsieve>=1.2 in /srv/conda/lib/python3.6/site-packages (from beautifulsoup4) (1.9.3)\r\n"
     ]
    }
   ],
   "source": [
    "import requests \n",
    "import sys\n",
    "!{sys.executable} -m pip install beautifulsoup4\n",
    "\n",
    "from bs4 import BeautifulSoup"
   ]
  },
  {
   "cell_type": "code",
   "execution_count": 15,
   "metadata": {},
   "outputs": [],
   "source": [
    "urls = [\n",
    "'http://www.math.rwth-aachen.de/~Gabriele.Nebe/LATTICES/d4to457.html',\n",
    "'http://www.math.rwth-aachen.de/~Gabriele.Nebe/LATTICES/d641.html',\n",
    "'http://www.math.rwth-aachen.de/~Gabriele.Nebe/LATTICES/d777.html',\n",
    "'http://www.math.rwth-aachen.de/~Gabriele.Nebe/LATTICES/d893.html',\n",
    "'http://www.math.rwth-aachen.de/~Gabriele.Nebe/LATTICES/d992.html',\n",
    "'http://www.math.rwth-aachen.de/~Gabriele.Nebe/LATTICES/d1080.html',\n",
    "'http://www.math.rwth-aachen.de/~Gabriele.Nebe/LATTICES/d1161.html',\n",
    "'http://www.math.rwth-aachen.de/~Gabriele.Nebe/LATTICES/d1236.html',\n",
    "'http://www.math.rwth-aachen.de/~Gabriele.Nebe/LATTICES/d1308.html',\n",
    "'http://www.math.rwth-aachen.de/~Gabriele.Nebe/LATTICES/d1373.html',\n",
    "'http://www.math.rwth-aachen.de/~Gabriele.Nebe/LATTICES/d1433.html',\n",
    "'http://www.math.rwth-aachen.de/~Gabriele.Nebe/LATTICES/d1492.html',\n",
    "'http://www.math.rwth-aachen.de/~Gabriele.Nebe/LATTICES/d1549.html',\n",
    "'http://www.math.rwth-aachen.de/~Gabriele.Nebe/LATTICES/d1604.html',\n",
    "'http://www.math.rwth-aachen.de/~Gabriele.Nebe/LATTICES/d1656.html',\n",
    "'http://www.math.rwth-aachen.de/~Gabriele.Nebe/LATTICES/d1705.html',\n",
    "'http://www.math.rwth-aachen.de/~Gabriele.Nebe/LATTICES/d1732.html']"
   ]
  },
  {
   "cell_type": "code",
   "execution_count": 16,
   "metadata": {},
   "outputs": [],
   "source": [
    "List = []\n",
    "\n",
    "for url in urls:\n",
    "\n",
    "    html_doc = requests.get(url).text\n",
    "    soup = BeautifulSoup(html_doc, 'html.parser')\n",
    "    data = soup.pre\n",
    "\n",
    "    data_text = data.get_text()\n",
    "    data_text2 = data_text.replace(\" \", \",\")\n",
    "    data_text3 = data_text2[1:]\n",
    "    data_list = [data_text3[i:i+79] for i in range(0, len(data_text3), 79)]\n",
    "\n",
    "    for string in data_list:\n",
    "        string_list = []\n",
    "        string1 = string.replace(\",,\",\",\")\n",
    "        string2 = string1.replace(\",,\",\",\")\n",
    "        string3 = string2.replace(\",,\",\",\")\n",
    "        string4 = string3.replace(\",,\",\",\")\n",
    "        string5 = string4.replace('\\n',\"\")\n",
    "        string6 = string5[1:]\n",
    "        string7 = string6.split(\",\",12)\n",
    "        for t in string7[0:12]:\n",
    "            string_list.append(int(t))\n",
    "        List.append(string_list)\n",
    "\n",
    "CoefficientList = []\n",
    "\n",
    "for L in List:\n",
    "    CoefficientList.append([2*L[2],2*L[6],2*L[7],2*L[9],2*L[3],2*L[8],2*L[10],2*L[4],2*L[11],2*L[5]])"
   ]
  },
  {
   "cell_type": "code",
   "execution_count": 24,
   "metadata": {},
   "outputs": [],
   "source": [
    "MyFile = open('NippCoefficients.txt','w')\n",
    "for element in CoefficientList:\n",
    "    MyFile.write(str(element)+',')\n",
    "MyFile.close()"
   ]
  },
  {
   "cell_type": "code",
   "execution_count": null,
   "metadata": {},
   "outputs": [],
   "source": []
  }
 ],
 "metadata": {
  "kernelspec": {
   "display_name": "Python 3",
   "language": "python",
   "name": "python3"
  },
  "language_info": {
   "codemirror_mode": {
    "name": "ipython",
    "version": 3
   },
   "file_extension": ".py",
   "mimetype": "text/x-python",
   "name": "python",
   "nbconvert_exporter": "python",
   "pygments_lexer": "ipython3",
   "version": "3.6.7"
  }
 },
 "nbformat": 4,
 "nbformat_minor": 2
}
